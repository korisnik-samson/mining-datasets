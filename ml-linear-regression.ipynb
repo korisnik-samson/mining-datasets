{
 "metadata": {
  "kernelspec": {
   "language": "python",
   "display_name": "Python 3",
   "name": "python3"
  },
  "language_info": {
   "name": "python",
   "version": "3.10.12",
   "mimetype": "text/x-python",
   "codemirror_mode": {
    "name": "ipython",
    "version": 3
   },
   "pygments_lexer": "ipython3",
   "nbconvert_exporter": "python",
   "file_extension": ".py"
  },
  "kaggle": {
   "accelerator": "nvidiaTeslaT4",
   "dataSources": [
    {
     "sourceId": 10805408,
     "sourceType": "datasetVersion",
     "datasetId": 6706964
    }
   ],
   "dockerImageVersionId": 30919,
   "isInternetEnabled": true,
   "language": "python",
   "sourceType": "notebook",
   "isGpuEnabled": true
  }
 },
 "nbformat_minor": 4,
 "nbformat": 4,
 "cells": [
  {
   "cell_type": "code",
   "source": [
    "from pyspark.sql import SparkSession\n",
    "\n",
    "spark = (SparkSession.builder.appName(\"Linear Regression\")\n",
    "         .config(\"spark.driver.extraJavaOptions\", \"-Djava.security.manager=allow\")\n",
    "         .config(\"spark.executor.extraJavaOptions\", \"-Djava.security.manager=allow\")\n",
    "         .getOrCreate())"
   ],
   "metadata": {
    "trusted": true,
    "execution": {
     "iopub.status.busy": "2025-03-13T19:12:21.556916Z",
     "iopub.execute_input": "2025-03-13T19:12:21.557166Z",
     "iopub.status.idle": "2025-03-13T19:12:28.501301Z",
     "shell.execute_reply.started": "2025-03-13T19:12:21.557141Z",
     "shell.execute_reply": "2025-03-13T19:12:28.500199Z"
    },
    "ExecuteTime": {
     "end_time": "2025-03-14T06:09:10.739828Z",
     "start_time": "2025-03-14T06:09:10.726614Z"
    }
   },
   "outputs": [],
   "execution_count": 18
  },
  {
   "cell_type": "code",
   "source": "data = spark.read.csv('data/single_variable_regression.csv', header=True, inferSchema=True)",
   "metadata": {
    "trusted": true,
    "execution": {
     "iopub.status.busy": "2025-03-13T19:12:28.502812Z",
     "iopub.execute_input": "2025-03-13T19:12:28.503489Z",
     "iopub.status.idle": "2025-03-13T19:12:34.636272Z",
     "shell.execute_reply.started": "2025-03-13T19:12:28.503461Z",
     "shell.execute_reply": "2025-03-13T19:12:34.635303Z"
    },
    "ExecuteTime": {
     "end_time": "2025-03-14T06:09:10.864961Z",
     "start_time": "2025-03-14T06:09:10.744916Z"
    }
   },
   "outputs": [],
   "execution_count": 19
  },
  {
   "cell_type": "code",
   "source": "len(data.columns)",
   "metadata": {
    "trusted": true,
    "execution": {
     "iopub.status.busy": "2025-03-13T19:12:34.637016Z",
     "iopub.execute_input": "2025-03-13T19:12:34.637341Z",
     "iopub.status.idle": "2025-03-13T19:12:34.673198Z",
     "shell.execute_reply.started": "2025-03-13T19:12:34.637311Z",
     "shell.execute_reply": "2025-03-13T19:12:34.672221Z"
    },
    "ExecuteTime": {
     "end_time": "2025-03-14T06:09:10.890836Z",
     "start_time": "2025-03-14T06:09:10.884831Z"
    }
   },
   "outputs": [
    {
     "data": {
      "text/plain": [
       "2"
      ]
     },
     "execution_count": 20,
     "metadata": {},
     "output_type": "execute_result"
    }
   ],
   "execution_count": 20
  },
  {
   "cell_type": "code",
   "source": "data.count()",
   "metadata": {
    "trusted": true,
    "execution": {
     "iopub.status.busy": "2025-03-13T19:12:34.674304Z",
     "iopub.execute_input": "2025-03-13T19:12:34.674641Z",
     "iopub.status.idle": "2025-03-13T19:12:35.290430Z",
     "shell.execute_reply.started": "2025-03-13T19:12:34.674610Z",
     "shell.execute_reply": "2025-03-13T19:12:35.289519Z"
    },
    "ExecuteTime": {
     "end_time": "2025-03-14T06:09:10.983084Z",
     "start_time": "2025-03-14T06:09:10.900656Z"
    }
   },
   "outputs": [
    {
     "data": {
      "text/plain": [
       "10"
      ]
     },
     "execution_count": 21,
     "metadata": {},
     "output_type": "execute_result"
    }
   ],
   "execution_count": 21
  },
  {
   "cell_type": "code",
   "source": "data.show()",
   "metadata": {
    "trusted": true,
    "execution": {
     "iopub.status.busy": "2025-03-13T19:12:35.291182Z",
     "iopub.execute_input": "2025-03-13T19:12:35.291480Z",
     "iopub.status.idle": "2025-03-13T19:12:35.520973Z",
     "shell.execute_reply.started": "2025-03-13T19:12:35.291451Z",
     "shell.execute_reply": "2025-03-13T19:12:35.519698Z"
    },
    "ExecuteTime": {
     "end_time": "2025-03-14T06:09:11.046403Z",
     "start_time": "2025-03-14T06:09:10.998604Z"
    }
   },
   "outputs": [
    {
     "name": "stdout",
     "output_type": "stream",
     "text": [
      "+----------+----------+\n",
      "|house_size|price_sold|\n",
      "+----------+----------+\n",
      "|      1490|    600000|\n",
      "|      2500|    950000|\n",
      "|      1200|    550000|\n",
      "|       900|    450000|\n",
      "|      1300|    560000|\n",
      "|      1000|    500000|\n",
      "|       850|    430000|\n",
      "|       750|    400000|\n",
      "|      2000|    800000|\n",
      "|      1600|    700000|\n",
      "+----------+----------+\n",
      "\n"
     ]
    }
   ],
   "execution_count": 22
  },
  {
   "cell_type": "code",
   "source": "from pyspark.ml.feature import VectorAssembler",
   "metadata": {
    "trusted": true,
    "execution": {
     "iopub.status.busy": "2025-03-13T19:12:35.524695Z",
     "iopub.execute_input": "2025-03-13T19:12:35.525032Z",
     "iopub.status.idle": "2025-03-13T19:12:35.862069Z",
     "shell.execute_reply.started": "2025-03-13T19:12:35.525002Z",
     "shell.execute_reply": "2025-03-13T19:12:35.861217Z"
    },
    "ExecuteTime": {
     "end_time": "2025-03-14T06:09:11.109343Z",
     "start_time": "2025-03-14T06:09:11.094587Z"
    }
   },
   "outputs": [],
   "execution_count": 23
  },
  {
   "cell_type": "code",
   "source": "assembler_object = VectorAssembler(inputCols=['house_size'], outputCol='house_size_vector')",
   "metadata": {
    "trusted": true,
    "execution": {
     "iopub.status.busy": "2025-03-13T19:12:35.863812Z",
     "iopub.execute_input": "2025-03-13T19:12:35.864165Z",
     "iopub.status.idle": "2025-03-13T19:12:35.905487Z",
     "shell.execute_reply.started": "2025-03-13T19:12:35.864142Z",
     "shell.execute_reply": "2025-03-13T19:12:35.904846Z"
    },
    "ExecuteTime": {
     "end_time": "2025-03-14T06:09:11.140785Z",
     "start_time": "2025-03-14T06:09:11.125202Z"
    }
   },
   "outputs": [],
   "execution_count": 24
  },
  {
   "cell_type": "code",
   "source": "feature_vector_df = assembler_object.transform(data)",
   "metadata": {
    "trusted": true,
    "execution": {
     "iopub.status.busy": "2025-03-13T19:12:35.906255Z",
     "iopub.execute_input": "2025-03-13T19:12:35.906570Z",
     "iopub.status.idle": "2025-03-13T19:12:36.048781Z",
     "shell.execute_reply.started": "2025-03-13T19:12:35.906539Z",
     "shell.execute_reply": "2025-03-13T19:12:36.047777Z"
    },
    "ExecuteTime": {
     "end_time": "2025-03-14T06:09:11.190644Z",
     "start_time": "2025-03-14T06:09:11.156474Z"
    }
   },
   "outputs": [],
   "execution_count": 25
  },
  {
   "cell_type": "code",
   "source": "feature_vector_df.show()",
   "metadata": {
    "trusted": true,
    "execution": {
     "iopub.status.busy": "2025-03-13T19:12:36.049772Z",
     "iopub.execute_input": "2025-03-13T19:12:36.050099Z",
     "iopub.status.idle": "2025-03-13T19:12:36.578982Z",
     "shell.execute_reply.started": "2025-03-13T19:12:36.050067Z",
     "shell.execute_reply": "2025-03-13T19:12:36.577923Z"
    },
    "ExecuteTime": {
     "end_time": "2025-03-14T06:09:11.269317Z",
     "start_time": "2025-03-14T06:09:11.206620Z"
    }
   },
   "outputs": [
    {
     "name": "stdout",
     "output_type": "stream",
     "text": [
      "+----------+----------+-----------------+\n",
      "|house_size|price_sold|house_size_vector|\n",
      "+----------+----------+-----------------+\n",
      "|      1490|    600000|         [1490.0]|\n",
      "|      2500|    950000|         [2500.0]|\n",
      "|      1200|    550000|         [1200.0]|\n",
      "|       900|    450000|          [900.0]|\n",
      "|      1300|    560000|         [1300.0]|\n",
      "|      1000|    500000|         [1000.0]|\n",
      "|       850|    430000|          [850.0]|\n",
      "|       750|    400000|          [750.0]|\n",
      "|      2000|    800000|         [2000.0]|\n",
      "|      1600|    700000|         [1600.0]|\n",
      "+----------+----------+-----------------+\n",
      "\n"
     ]
    }
   ],
   "execution_count": 26
  },
  {
   "cell_type": "code",
   "source": "feature_vector_df.printSchema()",
   "metadata": {
    "trusted": true,
    "execution": {
     "iopub.status.busy": "2025-03-13T19:12:36.580016Z",
     "iopub.execute_input": "2025-03-13T19:12:36.580330Z",
     "iopub.status.idle": "2025-03-13T19:12:36.587412Z",
     "shell.execute_reply.started": "2025-03-13T19:12:36.580302Z",
     "shell.execute_reply": "2025-03-13T19:12:36.586299Z"
    },
    "ExecuteTime": {
     "end_time": "2025-03-14T06:09:11.332183Z",
     "start_time": "2025-03-14T06:09:11.316545Z"
    }
   },
   "outputs": [
    {
     "name": "stdout",
     "output_type": "stream",
     "text": [
      "root\n",
      " |-- house_size: integer (nullable = true)\n",
      " |-- price_sold: integer (nullable = true)\n",
      " |-- house_size_vector: vector (nullable = true)\n",
      "\n"
     ]
    }
   ],
   "execution_count": 27
  },
  {
   "cell_type": "code",
   "source": "formatted_data = feature_vector_df.select('house_size_vector', 'price_sold')",
   "metadata": {
    "trusted": true,
    "execution": {
     "iopub.status.busy": "2025-03-13T19:12:36.588225Z",
     "iopub.execute_input": "2025-03-13T19:12:36.588734Z",
     "iopub.status.idle": "2025-03-13T19:12:36.631610Z",
     "shell.execute_reply.started": "2025-03-13T19:12:36.588706Z",
     "shell.execute_reply": "2025-03-13T19:12:36.630717Z"
    },
    "ExecuteTime": {
     "end_time": "2025-03-14T06:09:11.379037Z",
     "start_time": "2025-03-14T06:09:11.356355Z"
    }
   },
   "outputs": [],
   "execution_count": 28
  },
  {
   "cell_type": "code",
   "source": "train_data, test_data = formatted_data.randomSplit([0.7, 0.3])",
   "metadata": {
    "trusted": true,
    "execution": {
     "iopub.status.busy": "2025-03-13T19:12:36.633242Z",
     "iopub.execute_input": "2025-03-13T19:12:36.633718Z",
     "iopub.status.idle": "2025-03-13T19:12:36.657753Z",
     "shell.execute_reply.started": "2025-03-13T19:12:36.633671Z",
     "shell.execute_reply": "2025-03-13T19:12:36.656808Z"
    },
    "ExecuteTime": {
     "end_time": "2025-03-14T06:09:11.422282Z",
     "start_time": "2025-03-14T06:09:11.406389Z"
    }
   },
   "outputs": [],
   "execution_count": 29
  },
  {
   "cell_type": "code",
   "source": "from pyspark.ml.regression import LinearRegression\n\nlinear_reg = LinearRegression(\n    featuresCol='house_size_vector', \n    labelCol='price_sold'\n)",
   "metadata": {
    "trusted": true,
    "execution": {
     "iopub.status.busy": "2025-03-13T19:12:36.658806Z",
     "iopub.execute_input": "2025-03-13T19:12:36.659132Z",
     "iopub.status.idle": "2025-03-13T19:12:36.737439Z",
     "shell.execute_reply.started": "2025-03-13T19:12:36.659088Z",
     "shell.execute_reply": "2025-03-13T19:12:36.736375Z"
    },
    "ExecuteTime": {
     "end_time": "2025-03-14T06:09:11.437995Z",
     "start_time": "2025-03-14T06:09:11.424888Z"
    }
   },
   "outputs": [],
   "execution_count": 30
  },
  {
   "cell_type": "code",
   "source": "linear_reg_model = linear_reg.fit(train_data)",
   "metadata": {
    "trusted": true,
    "execution": {
     "iopub.status.busy": "2025-03-13T19:12:36.738444Z",
     "iopub.execute_input": "2025-03-13T19:12:36.738676Z",
     "iopub.status.idle": "2025-03-13T19:12:38.383944Z",
     "shell.execute_reply.started": "2025-03-13T19:12:36.738657Z",
     "shell.execute_reply": "2025-03-13T19:12:38.382888Z"
    },
    "ExecuteTime": {
     "end_time": "2025-03-14T06:09:11.740406Z",
     "start_time": "2025-03-14T06:09:11.455023Z"
    }
   },
   "outputs": [],
   "execution_count": 31
  },
  {
   "cell_type": "code",
   "source": "test_results = linear_reg_model.evaluate(test_data)",
   "metadata": {
    "trusted": true,
    "execution": {
     "iopub.status.busy": "2025-03-13T19:12:38.385054Z",
     "iopub.execute_input": "2025-03-13T19:12:38.385391Z",
     "iopub.status.idle": "2025-03-13T19:12:38.607697Z",
     "shell.execute_reply.started": "2025-03-13T19:12:38.385360Z",
     "shell.execute_reply": "2025-03-13T19:12:38.606713Z"
    },
    "ExecuteTime": {
     "end_time": "2025-03-14T06:09:11.841600Z",
     "start_time": "2025-03-14T06:09:11.747057Z"
    }
   },
   "outputs": [],
   "execution_count": 32
  },
  {
   "cell_type": "code",
   "source": "test_results.residuals.show()",
   "metadata": {
    "trusted": true,
    "execution": {
     "iopub.status.busy": "2025-03-13T19:12:38.608908Z",
     "iopub.execute_input": "2025-03-13T19:12:38.609224Z",
     "iopub.status.idle": "2025-03-13T19:12:38.877460Z",
     "shell.execute_reply.started": "2025-03-13T19:12:38.609194Z",
     "shell.execute_reply": "2025-03-13T19:12:38.876524Z"
    },
    "ExecuteTime": {
     "end_time": "2025-03-14T06:09:12.000493Z",
     "start_time": "2025-03-14T06:09:11.904778Z"
    }
   },
   "outputs": [
    {
     "name": "stdout",
     "output_type": "stream",
     "text": [
      "+-------------------+\n",
      "|          residuals|\n",
      "+-------------------+\n",
      "| -4679.750021208194|\n",
      "|-420.77878008049447|\n",
      "|-4133.6990639945725|\n",
      "+-------------------+\n",
      "\n"
     ]
    }
   ],
   "execution_count": 33
  },
  {
   "cell_type": "code",
   "source": "linear_reg_model.predict(test_data)",
   "metadata": {
    "trusted": true,
    "execution": {
     "iopub.status.busy": "2025-03-13T19:12:38.878617Z",
     "iopub.execute_input": "2025-03-13T19:12:38.878940Z",
     "iopub.status.idle": "2025-03-13T19:12:38.981159Z",
     "shell.execute_reply.started": "2025-03-13T19:12:38.878908Z",
     "shell.execute_reply": "2025-03-13T19:12:38.977741Z"
    },
    "ExecuteTime": {
     "end_time": "2025-03-14T06:09:47.243411Z",
     "start_time": "2025-03-14T06:09:47.166023Z"
    }
   },
   "outputs": [
    {
     "ename": "AttributeError",
     "evalue": "'LinearRegressionSummary' object has no attribute 'show'",
     "output_type": "error",
     "traceback": [
      "\u001B[1;31m---------------------------------------------------------------------------\u001B[0m",
      "\u001B[1;31mAttributeError\u001B[0m                            Traceback (most recent call last)",
      "Cell \u001B[1;32mIn[36], line 1\u001B[0m\n\u001B[1;32m----> 1\u001B[0m \u001B[43mlinear_reg_model\u001B[49m\u001B[38;5;241;43m.\u001B[39;49m\u001B[43mevaluate\u001B[49m\u001B[43m(\u001B[49m\u001B[43mtest_data\u001B[49m\u001B[43m)\u001B[49m\u001B[38;5;241;43m.\u001B[39;49m\u001B[43mshow\u001B[49m()\n",
      "\u001B[1;31mAttributeError\u001B[0m: 'LinearRegressionSummary' object has no attribute 'show'"
     ]
    }
   ],
   "execution_count": 36
  },
  {
   "cell_type": "code",
   "source": "test_results.rootMeanSquaredError",
   "metadata": {
    "trusted": true,
    "execution": {
     "iopub.status.busy": "2025-03-13T19:12:38.981552Z",
     "iopub.status.idle": "2025-03-13T19:12:38.981791Z",
     "shell.execute_reply": "2025-03-13T19:12:38.981695Z"
    },
    "ExecuteTime": {
     "end_time": "2025-03-14T06:12:25.818290Z",
     "start_time": "2025-03-14T06:12:25.794598Z"
    }
   },
   "outputs": [
    {
     "data": {
      "text/plain": [
       "3613.1511175350215"
      ]
     },
     "execution_count": 37,
     "metadata": {},
     "output_type": "execute_result"
    }
   ],
   "execution_count": 37
  },
  {
   "cell_type": "code",
   "source": "test_results.r2",
   "metadata": {
    "trusted": true,
    "execution": {
     "iopub.status.busy": "2025-03-13T19:12:38.982512Z",
     "iopub.status.idle": "2025-03-13T19:12:38.982799Z",
     "shell.execute_reply": "2025-03-13T19:12:38.982693Z"
    },
    "ExecuteTime": {
     "end_time": "2025-03-14T06:12:26.535797Z",
     "start_time": "2025-03-14T06:12:26.519750Z"
    }
   },
   "outputs": [
    {
     "data": {
      "text/plain": [
       "0.9997743975633961"
      ]
     },
     "execution_count": 38,
     "metadata": {},
     "output_type": "execute_result"
    }
   ],
   "execution_count": 38
  },
  {
   "cell_type": "code",
   "source": "unlabelled_data = test_data.select('house_size_vector')",
   "metadata": {
    "trusted": true,
    "execution": {
     "iopub.status.busy": "2025-03-13T19:12:38.983870Z",
     "iopub.status.idle": "2025-03-13T19:12:38.984200Z",
     "shell.execute_reply": "2025-03-13T19:12:38.984090Z"
    },
    "ExecuteTime": {
     "end_time": "2025-03-14T06:12:27.397695Z",
     "start_time": "2025-03-14T06:12:27.381750Z"
    }
   },
   "outputs": [],
   "execution_count": 39
  },
  {
   "cell_type": "code",
   "source": "prediction = linear_reg_model.transform(unlabelled_data)",
   "metadata": {
    "trusted": true,
    "execution": {
     "iopub.status.busy": "2025-03-13T19:12:38.985146Z",
     "iopub.status.idle": "2025-03-13T19:12:38.985521Z",
     "shell.execute_reply": "2025-03-13T19:12:38.985352Z"
    },
    "ExecuteTime": {
     "end_time": "2025-03-14T06:12:28.525967Z",
     "start_time": "2025-03-14T06:12:28.494783Z"
    }
   },
   "outputs": [],
   "execution_count": 40
  },
  {
   "cell_type": "code",
   "source": "prediction.show()",
   "metadata": {
    "trusted": true,
    "execution": {
     "iopub.status.busy": "2025-03-13T19:12:38.986457Z",
     "iopub.status.idle": "2025-03-13T19:12:38.986864Z",
     "shell.execute_reply": "2025-03-13T19:12:38.986697Z"
    },
    "ExecuteTime": {
     "end_time": "2025-03-14T06:12:29.328930Z",
     "start_time": "2025-03-14T06:12:29.249751Z"
    }
   },
   "outputs": [
    {
     "name": "stdout",
     "output_type": "stream",
     "text": [
      "+-----------------+-----------------+\n",
      "|house_size_vector|       prediction|\n",
      "+-----------------+-----------------+\n",
      "|          [850.0]|434679.7500212082|\n",
      "|          [900.0]|450420.7787800805|\n",
      "|         [2500.0]|954133.6990639946|\n",
      "+-----------------+-----------------+\n",
      "\n"
     ]
    }
   ],
   "execution_count": 41
  },
  {
   "cell_type": "code",
   "source": "w = linear_reg_model.coefficients[0]",
   "metadata": {
    "trusted": true,
    "execution": {
     "iopub.status.busy": "2025-03-13T19:12:38.987881Z",
     "iopub.status.idle": "2025-03-13T19:12:38.988237Z",
     "shell.execute_reply": "2025-03-13T19:12:38.988076Z"
    },
    "ExecuteTime": {
     "end_time": "2025-03-14T06:12:32.546808Z",
     "start_time": "2025-03-14T06:12:32.504716Z"
    }
   },
   "outputs": [],
   "execution_count": 42
  },
  {
   "cell_type": "code",
   "source": "w",
   "metadata": {
    "trusted": true,
    "execution": {
     "iopub.status.busy": "2025-03-13T19:12:38.989767Z",
     "iopub.status.idle": "2025-03-13T19:12:38.990150Z",
     "shell.execute_reply": "2025-03-13T19:12:38.989974Z"
    },
    "ExecuteTime": {
     "end_time": "2025-03-14T06:12:33.172558Z",
     "start_time": "2025-03-14T06:12:33.156787Z"
    }
   },
   "outputs": [
    {
     "data": {
      "text/plain": [
       "314.8205751774463"
      ]
     },
     "execution_count": 43,
     "metadata": {},
     "output_type": "execute_result"
    }
   ],
   "execution_count": 43
  },
  {
   "cell_type": "code",
   "source": "b = linear_reg_model.intercept",
   "metadata": {
    "trusted": true,
    "execution": {
     "iopub.status.busy": "2025-03-13T19:12:38.990948Z",
     "iopub.status.idle": "2025-03-13T19:12:38.991304Z",
     "shell.execute_reply": "2025-03-13T19:12:38.991146Z"
    },
    "ExecuteTime": {
     "end_time": "2025-03-14T06:12:34.297429Z",
     "start_time": "2025-03-14T06:12:34.289250Z"
    }
   },
   "outputs": [],
   "execution_count": 44
  },
  {
   "cell_type": "code",
   "source": "b",
   "metadata": {
    "trusted": true,
    "execution": {
     "iopub.status.busy": "2025-03-13T19:12:38.992913Z",
     "iopub.status.idle": "2025-03-13T19:12:38.993284Z",
     "shell.execute_reply": "2025-03-13T19:12:38.993118Z"
    },
    "ExecuteTime": {
     "end_time": "2025-03-14T06:12:34.826287Z",
     "start_time": "2025-03-14T06:12:34.814602Z"
    }
   },
   "outputs": [
    {
     "data": {
      "text/plain": [
       "167082.26112037883"
      ]
     },
     "execution_count": 45,
     "metadata": {},
     "output_type": "execute_result"
    }
   ],
   "execution_count": 45
  },
  {
   "cell_type": "code",
   "source": "# What is the price of the new house if it's size is 1511sqft\nnew_house_size = 1511\nnew_house_price = (w * 1511) + b",
   "metadata": {
    "trusted": true,
    "execution": {
     "iopub.status.busy": "2025-03-13T19:12:38.993867Z",
     "iopub.status.idle": "2025-03-13T19:12:38.994151Z",
     "shell.execute_reply": "2025-03-13T19:12:38.994042Z"
    },
    "ExecuteTime": {
     "end_time": "2025-03-14T06:12:35.665877Z",
     "start_time": "2025-03-14T06:12:35.654697Z"
    }
   },
   "outputs": [],
   "execution_count": 46
  },
  {
   "cell_type": "code",
   "source": "new_house_price",
   "metadata": {
    "trusted": true,
    "execution": {
     "iopub.status.busy": "2025-03-13T19:12:38.994862Z",
     "iopub.status.idle": "2025-03-13T19:12:38.995275Z",
     "shell.execute_reply": "2025-03-13T19:12:38.995135Z"
    },
    "ExecuteTime": {
     "end_time": "2025-03-14T06:12:37.004305Z",
     "start_time": "2025-03-14T06:12:36.988330Z"
    }
   },
   "outputs": [
    {
     "data": {
      "text/plain": [
       "642776.1502135001"
      ]
     },
     "execution_count": 47,
     "metadata": {},
     "output_type": "execute_result"
    }
   ],
   "execution_count": 47
  },
  {
   "cell_type": "code",
   "source": "import matplotlib.pyplot as plt\n\ndata_plot = data.toPandas()",
   "metadata": {
    "trusted": true,
    "execution": {
     "iopub.status.busy": "2025-03-13T19:12:38.996344Z",
     "iopub.status.idle": "2025-03-13T19:12:38.996650Z",
     "shell.execute_reply": "2025-03-13T19:12:38.996537Z"
    },
    "ExecuteTime": {
     "end_time": "2025-03-14T06:12:38.058318Z",
     "start_time": "2025-03-14T06:12:37.994848Z"
    }
   },
   "outputs": [],
   "execution_count": 48
  },
  {
   "cell_type": "code",
   "source": "data_plot",
   "metadata": {
    "trusted": true,
    "execution": {
     "iopub.status.busy": "2025-03-13T19:12:38.997466Z",
     "iopub.status.idle": "2025-03-13T19:12:38.997859Z",
     "shell.execute_reply": "2025-03-13T19:12:38.997674Z"
    },
    "ExecuteTime": {
     "end_time": "2025-03-14T06:12:39.053358Z",
     "start_time": "2025-03-14T06:12:39.037653Z"
    }
   },
   "outputs": [
    {
     "data": {
      "text/plain": [
       "   house_size  price_sold\n",
       "0        1490      600000\n",
       "1        2500      950000\n",
       "2        1200      550000\n",
       "3         900      450000\n",
       "4        1300      560000\n",
       "5        1000      500000\n",
       "6         850      430000\n",
       "7         750      400000\n",
       "8        2000      800000\n",
       "9        1600      700000"
      ],
      "text/html": [
       "<div>\n",
       "<style scoped>\n",
       "    .dataframe tbody tr th:only-of-type {\n",
       "        vertical-align: middle;\n",
       "    }\n",
       "\n",
       "    .dataframe tbody tr th {\n",
       "        vertical-align: top;\n",
       "    }\n",
       "\n",
       "    .dataframe thead th {\n",
       "        text-align: right;\n",
       "    }\n",
       "</style>\n",
       "<table border=\"1\" class=\"dataframe\">\n",
       "  <thead>\n",
       "    <tr style=\"text-align: right;\">\n",
       "      <th></th>\n",
       "      <th>house_size</th>\n",
       "      <th>price_sold</th>\n",
       "    </tr>\n",
       "  </thead>\n",
       "  <tbody>\n",
       "    <tr>\n",
       "      <th>0</th>\n",
       "      <td>1490</td>\n",
       "      <td>600000</td>\n",
       "    </tr>\n",
       "    <tr>\n",
       "      <th>1</th>\n",
       "      <td>2500</td>\n",
       "      <td>950000</td>\n",
       "    </tr>\n",
       "    <tr>\n",
       "      <th>2</th>\n",
       "      <td>1200</td>\n",
       "      <td>550000</td>\n",
       "    </tr>\n",
       "    <tr>\n",
       "      <th>3</th>\n",
       "      <td>900</td>\n",
       "      <td>450000</td>\n",
       "    </tr>\n",
       "    <tr>\n",
       "      <th>4</th>\n",
       "      <td>1300</td>\n",
       "      <td>560000</td>\n",
       "    </tr>\n",
       "    <tr>\n",
       "      <th>5</th>\n",
       "      <td>1000</td>\n",
       "      <td>500000</td>\n",
       "    </tr>\n",
       "    <tr>\n",
       "      <th>6</th>\n",
       "      <td>850</td>\n",
       "      <td>430000</td>\n",
       "    </tr>\n",
       "    <tr>\n",
       "      <th>7</th>\n",
       "      <td>750</td>\n",
       "      <td>400000</td>\n",
       "    </tr>\n",
       "    <tr>\n",
       "      <th>8</th>\n",
       "      <td>2000</td>\n",
       "      <td>800000</td>\n",
       "    </tr>\n",
       "    <tr>\n",
       "      <th>9</th>\n",
       "      <td>1600</td>\n",
       "      <td>700000</td>\n",
       "    </tr>\n",
       "  </tbody>\n",
       "</table>\n",
       "</div>"
      ]
     },
     "execution_count": 49,
     "metadata": {},
     "output_type": "execute_result"
    }
   ],
   "execution_count": 49
  },
  {
   "cell_type": "code",
   "source": "data_plot.plot.scatter(x='house_size', y='price_sold', figsize=(5, 3))\n\nx = data_plot.iloc[:, 0]\ny = w*x + b\n\nplt.plot(x, y, 'r')",
   "metadata": {
    "trusted": true,
    "execution": {
     "iopub.status.busy": "2025-03-13T19:12:38.999790Z",
     "iopub.status.idle": "2025-03-13T19:12:39.000159Z",
     "shell.execute_reply": "2025-03-13T19:12:38.999999Z"
    },
    "ExecuteTime": {
     "end_time": "2025-03-14T06:12:40.909108Z",
     "start_time": "2025-03-14T06:12:40.804579Z"
    }
   },
   "outputs": [
    {
     "data": {
      "text/plain": [
       "[<matplotlib.lines.Line2D at 0x1dddd111a50>]"
      ]
     },
     "execution_count": 50,
     "metadata": {},
     "output_type": "execute_result"
    },
    {
     "data": {
      "text/plain": [
       "<Figure size 500x300 with 1 Axes>"
      ],
      "image/png": "[encoded data removed]"
     },
     "metadata": {},
     "output_type": "display_data"
    }
   ],
   "execution_count": 50
  },
  {
   "cell_type": "code",
   "source": "data = spark.read.csv('data/multi_variable_regression.csv', header=True, inferSchema=True)",
   "metadata": {
    "trusted": true,
    "execution": {
     "iopub.status.busy": "2025-03-13T19:12:39.000794Z",
     "iopub.status.idle": "2025-03-13T19:12:39.001152Z",
     "shell.execute_reply": "2025-03-13T19:12:39.001003Z"
    },
    "ExecuteTime": {
     "end_time": "2025-03-14T06:12:57.350820Z",
     "start_time": "2025-03-14T06:12:57.244864Z"
    }
   },
   "outputs": [],
   "execution_count": 53
  },
  {
   "cell_type": "code",
   "source": "data.show()",
   "metadata": {
    "trusted": true,
    "execution": {
     "iopub.status.busy": "2025-03-13T19:12:39.002070Z",
     "iopub.status.idle": "2025-03-13T19:12:39.002480Z",
     "shell.execute_reply": "2025-03-13T19:12:39.002300Z"
    },
    "ExecuteTime": {
     "end_time": "2025-03-14T06:12:58.293206Z",
     "start_time": "2025-03-14T06:12:58.227679Z"
    }
   },
   "outputs": [
    {
     "name": "stdout",
     "output_type": "stream",
     "text": [
      "+----------+--------+------+---------+--------------+----------+\n",
      "|house_size|bedrooms|floors|house_age|          area|price_sold|\n",
      "+----------+--------+------+---------+--------------+----------+\n",
      "|      1490|       2|     2|       10|    Ave Avenue|    600000|\n",
      "|      2500|       3|     2|       20|    Ave Avenue|    950000|\n",
      "|      1200|       2|     1|        5|       MG Road|    550000|\n",
      "|       900|       2|     2|       15|       MG Road|    450000|\n",
      "|      1350|       2|     2|        5|Dollors Colony|    650000|\n",
      "|      1000|       2|     1|        2|Dollors Colony|    600000|\n",
      "|       850|       1|     1|        5|   Wall Street|    400000|\n",
      "|       750|       1|     1|        1|   Wall Street|    400000|\n",
      "|      2000|       3|     1|        2|    Ave Avenue|    850000|\n",
      "|      1600|       2|     1|       20|       MG Road|    650000|\n",
      "+----------+--------+------+---------+--------------+----------+\n",
      "\n"
     ]
    }
   ],
   "execution_count": 54
  },
  {
   "cell_type": "code",
   "source": "data.printSchema()",
   "metadata": {
    "trusted": true,
    "execution": {
     "iopub.status.busy": "2025-03-13T19:12:39.003083Z",
     "iopub.status.idle": "2025-03-13T19:12:39.003517Z",
     "shell.execute_reply": "2025-03-13T19:12:39.003319Z"
    },
    "ExecuteTime": {
     "end_time": "2025-03-14T06:13:02.863515Z",
     "start_time": "2025-03-14T06:13:02.854719Z"
    }
   },
   "outputs": [
    {
     "name": "stdout",
     "output_type": "stream",
     "text": [
      "root\n",
      " |-- house_size: integer (nullable = true)\n",
      " |-- bedrooms: integer (nullable = true)\n",
      " |-- floors: integer (nullable = true)\n",
      " |-- house_age: integer (nullable = true)\n",
      " |-- area: string (nullable = true)\n",
      " |-- price_sold: integer (nullable = true)\n",
      "\n"
     ]
    }
   ],
   "execution_count": 55
  },
  {
   "cell_type": "code",
   "source": "from pyspark.ml.feature import StringIndexer",
   "metadata": {
    "trusted": true,
    "execution": {
     "iopub.status.busy": "2025-03-13T19:12:39.004363Z",
     "iopub.status.idle": "2025-03-13T19:12:39.004752Z",
     "shell.execute_reply": "2025-03-13T19:12:39.004608Z"
    },
    "ExecuteTime": {
     "end_time": "2025-03-14T06:13:06.104893Z",
     "start_time": "2025-03-14T06:13:06.088825Z"
    }
   },
   "outputs": [],
   "execution_count": 56
  },
  {
   "cell_type": "code",
   "source": "string_index_obj = StringIndexer(inputCol='area', outputCol='area_feature')",
   "metadata": {
    "trusted": true,
    "execution": {
     "iopub.status.busy": "2025-03-13T19:12:39.005292Z",
     "iopub.status.idle": "2025-03-13T19:12:39.005642Z",
     "shell.execute_reply": "2025-03-13T19:12:39.005491Z"
    },
    "ExecuteTime": {
     "end_time": "2025-03-14T06:13:06.584048Z",
     "start_time": "2025-03-14T06:13:06.568303Z"
    }
   },
   "outputs": [],
   "execution_count": 57
  },
  {
   "cell_type": "code",
   "source": "string_index_df_obj = string_index_obj.fit(data)\nfinal_data = string_index_df_obj.transform(data)",
   "metadata": {
    "trusted": true,
    "execution": {
     "iopub.status.busy": "2025-03-13T19:12:39.006177Z",
     "iopub.status.idle": "2025-03-13T19:12:39.006535Z",
     "shell.execute_reply": "2025-03-13T19:12:39.006355Z"
    },
    "ExecuteTime": {
     "end_time": "2025-03-14T06:13:07.317655Z",
     "start_time": "2025-03-14T06:13:07.032375Z"
    }
   },
   "outputs": [],
   "execution_count": 58
  },
  {
   "cell_type": "code",
   "source": "final_data.show()",
   "metadata": {
    "trusted": true,
    "execution": {
     "iopub.status.busy": "2025-03-13T19:12:39.007081Z",
     "iopub.status.idle": "2025-03-13T19:12:39.007438Z",
     "shell.execute_reply": "2025-03-13T19:12:39.007252Z"
    },
    "ExecuteTime": {
     "end_time": "2025-03-14T06:13:07.872954Z",
     "start_time": "2025-03-14T06:13:07.809890Z"
    }
   },
   "outputs": [
    {
     "name": "stdout",
     "output_type": "stream",
     "text": [
      "+----------+--------+------+---------+--------------+----------+------------+\n",
      "|house_size|bedrooms|floors|house_age|          area|price_sold|area_feature|\n",
      "+----------+--------+------+---------+--------------+----------+------------+\n",
      "|      1490|       2|     2|       10|    Ave Avenue|    600000|         0.0|\n",
      "|      2500|       3|     2|       20|    Ave Avenue|    950000|         0.0|\n",
      "|      1200|       2|     1|        5|       MG Road|    550000|         1.0|\n",
      "|       900|       2|     2|       15|       MG Road|    450000|         1.0|\n",
      "|      1350|       2|     2|        5|Dollors Colony|    650000|         2.0|\n",
      "|      1000|       2|     1|        2|Dollors Colony|    600000|         2.0|\n",
      "|       850|       1|     1|        5|   Wall Street|    400000|         3.0|\n",
      "|       750|       1|     1|        1|   Wall Street|    400000|         3.0|\n",
      "|      2000|       3|     1|        2|    Ave Avenue|    850000|         0.0|\n",
      "|      1600|       2|     1|       20|       MG Road|    650000|         1.0|\n",
      "+----------+--------+------+---------+--------------+----------+------------+\n",
      "\n"
     ]
    }
   ],
   "execution_count": 59
  },
  {
   "cell_type": "code",
   "source": "assembler_object = VectorAssembler(\n    inputCols=['house_size', 'bedrooms', 'floors', 'house_age', 'area_feature'],\n    outputCol='features'\n)",
   "metadata": {
    "trusted": true,
    "execution": {
     "iopub.status.busy": "2025-03-13T19:12:39.008076Z",
     "iopub.status.idle": "2025-03-13T19:12:39.008517Z",
     "shell.execute_reply": "2025-03-13T19:12:39.008315Z"
    },
    "ExecuteTime": {
     "end_time": "2025-03-14T06:13:08.862466Z",
     "start_time": "2025-03-14T06:13:08.854950Z"
    }
   },
   "outputs": [],
   "execution_count": 60
  },
  {
   "cell_type": "code",
   "source": "feature_vector_df = assembler_object.transform(dataset=final_data)",
   "metadata": {
    "trusted": true,
    "execution": {
     "iopub.status.busy": "2025-03-13T19:12:39.009114Z",
     "iopub.status.idle": "2025-03-13T19:12:39.009332Z",
     "shell.execute_reply": "2025-03-13T19:12:39.009240Z"
    },
    "ExecuteTime": {
     "end_time": "2025-03-14T06:13:09.470718Z",
     "start_time": "2025-03-14T06:13:09.438860Z"
    }
   },
   "outputs": [],
   "execution_count": 61
  },
  {
   "cell_type": "code",
   "source": "feature_vector_df.show(truncate=False)",
   "metadata": {
    "trusted": true,
    "execution": {
     "iopub.status.busy": "2025-03-13T19:12:39.009866Z",
     "iopub.status.idle": "2025-03-13T19:12:39.010291Z",
     "shell.execute_reply": "2025-03-13T19:12:39.010105Z"
    },
    "ExecuteTime": {
     "end_time": "2025-03-14T06:13:09.917055Z",
     "start_time": "2025-03-14T06:13:09.854930Z"
    }
   },
   "outputs": [
    {
     "name": "stdout",
     "output_type": "stream",
     "text": [
      "+----------+--------+------+---------+--------------+----------+------------+-------------------------+\n",
      "|house_size|bedrooms|floors|house_age|area          |price_sold|area_feature|features                 |\n",
      "+----------+--------+------+---------+--------------+----------+------------+-------------------------+\n",
      "|1490      |2       |2     |10       |Ave Avenue    |600000    |0.0         |[1490.0,2.0,2.0,10.0,0.0]|\n",
      "|2500      |3       |2     |20       |Ave Avenue    |950000    |0.0         |[2500.0,3.0,2.0,20.0,0.0]|\n",
      "|1200      |2       |1     |5        |MG Road       |550000    |1.0         |[1200.0,2.0,1.0,5.0,1.0] |\n",
      "|900       |2       |2     |15       |MG Road       |450000    |1.0         |[900.0,2.0,2.0,15.0,1.0] |\n",
      "|1350      |2       |2     |5        |Dollors Colony|650000    |2.0         |[1350.0,2.0,2.0,5.0,2.0] |\n",
      "|1000      |2       |1     |2        |Dollors Colony|600000    |2.0         |[1000.0,2.0,1.0,2.0,2.0] |\n",
      "|850       |1       |1     |5        |Wall Street   |400000    |3.0         |[850.0,1.0,1.0,5.0,3.0]  |\n",
      "|750       |1       |1     |1        |Wall Street   |400000    |3.0         |[750.0,1.0,1.0,1.0,3.0]  |\n",
      "|2000      |3       |1     |2        |Ave Avenue    |850000    |0.0         |[2000.0,3.0,1.0,2.0,0.0] |\n",
      "|1600      |2       |1     |20       |MG Road       |650000    |1.0         |[1600.0,2.0,1.0,20.0,1.0]|\n",
      "+----------+--------+------+---------+--------------+----------+------------+-------------------------+\n",
      "\n"
     ]
    }
   ],
   "execution_count": 62
  },
  {
   "cell_type": "code",
   "source": "df = feature_vector_df.select('features', 'price_sold')",
   "metadata": {
    "trusted": true,
    "execution": {
     "iopub.status.busy": "2025-03-13T19:12:39.010905Z",
     "iopub.status.idle": "2025-03-13T19:12:39.011260Z",
     "shell.execute_reply": "2025-03-13T19:12:39.011109Z"
    },
    "ExecuteTime": {
     "end_time": "2025-03-14T06:13:10.364316Z",
     "start_time": "2025-03-14T06:13:10.348258Z"
    }
   },
   "outputs": [],
   "execution_count": 63
  },
  {
   "cell_type": "code",
   "source": "train_df, test_df = df.randomSplit(weights=[0.7, 0.3])\n\nlr = LinearRegression(\n    featuresCol='features',\n    labelCol='price_sold'\n)\n\nmodel = lr.fit(train_df)",
   "metadata": {
    "trusted": true,
    "execution": {
     "iopub.status.busy": "2025-03-13T19:12:39.012134Z",
     "iopub.status.idle": "2025-03-13T19:12:39.012499Z",
     "shell.execute_reply": "2025-03-13T19:12:39.012348Z"
    },
    "ExecuteTime": {
     "end_time": "2025-03-14T06:13:11.227752Z",
     "start_time": "2025-03-14T06:13:11.020643Z"
    }
   },
   "outputs": [],
   "execution_count": 64
  },
  {
   "cell_type": "code",
   "source": "result = model.evaluate(test_df)\nresult.r2",
   "metadata": {
    "trusted": true,
    "execution": {
     "iopub.status.busy": "2025-03-13T19:12:39.013135Z",
     "iopub.status.idle": "2025-03-13T19:12:39.013391Z",
     "shell.execute_reply": "2025-03-13T19:12:39.013288Z"
    },
    "ExecuteTime": {
     "end_time": "2025-03-14T06:13:14.804017Z",
     "start_time": "2025-03-14T06:13:14.725046Z"
    }
   },
   "outputs": [
    {
     "data": {
      "text/plain": [
       "-523.312671614252"
      ]
     },
     "execution_count": 65,
     "metadata": {},
     "output_type": "execute_result"
    }
   ],
   "execution_count": 65
  },
  {
   "cell_type": "code",
   "source": "# What will be the price for a house with the following features:\n# size = 1742\n# beds = 3\n# floors = 1\n# age = 10\n# area = 2",
   "metadata": {
    "trusted": true,
    "execution": {
     "iopub.status.busy": "2025-03-13T19:12:39.014367Z",
     "iopub.status.idle": "2025-03-13T19:12:39.014775Z",
     "shell.execute_reply": "2025-03-13T19:12:39.014607Z"
    },
    "ExecuteTime": {
     "end_time": "2025-03-14T06:13:24.158937Z",
     "start_time": "2025-03-14T06:13:24.144775Z"
    }
   },
   "outputs": [],
   "execution_count": 66
  },
  {
   "cell_type": "code",
   "source": "model.coefficients",
   "metadata": {
    "trusted": true,
    "execution": {
     "iopub.status.busy": "2025-03-13T19:12:39.015376Z",
     "iopub.status.idle": "2025-03-13T19:12:39.015732Z",
     "shell.execute_reply": "2025-03-13T19:12:39.015579Z"
    },
    "ExecuteTime": {
     "end_time": "2025-03-14T06:13:25.254803Z",
     "start_time": "2025-03-14T06:13:25.238554Z"
    }
   },
   "outputs": [
    {
     "data": {
      "text/plain": [
       "DenseVector([4000.0, -149999.9999, 2099999.9997, -100000.0, 549999.9999])"
      ]
     },
     "execution_count": 67,
     "metadata": {},
     "output_type": "execute_result"
    }
   ],
   "execution_count": 67
  },
  {
   "cell_type": "code",
   "source": "# Task - loading the tips dataset, create a model to predict the total bill. Use all features except the total bill to train your model\n# What is the performance of your model (r^2)\n\nimport seaborn as sns\n\ndf_tips = sns.load_dataset('tips')\ndf = spark.createDataFrame(df_tips)\n\ndf.show()",
   "metadata": {
    "trusted": true,
    "execution": {
     "iopub.status.busy": "2025-03-13T19:12:39.016497Z",
     "iopub.status.idle": "2025-03-13T19:12:39.016985Z",
     "shell.execute_reply": "2025-03-13T19:12:39.016822Z"
    },
    "ExecuteTime": {
     "end_time": "2025-03-14T06:13:42.963686Z",
     "start_time": "2025-03-14T06:13:32.104795Z"
    }
   },
   "outputs": [
    {
     "ename": "Py4JJavaError",
     "evalue": "An error occurred while calling o1208.showString.\n: org.apache.spark.SparkException: Job aborted due to stage failure: Task 0 in stage 38.0 failed 1 times, most recent failure: Lost task 0.0 in stage 38.0 (TID 35) (Samson executor driver): org.apache.spark.SparkException: Python worker failed to connect back.\r\n\tat org.apache.spark.api.python.PythonWorkerFactory.createSimpleWorker(PythonWorkerFactory.scala:203)\r\n\tat org.apache.spark.api.python.PythonWorkerFactory.create(PythonWorkerFactory.scala:109)\r\n\tat org.apache.spark.SparkEnv.createPythonWorker(SparkEnv.scala:124)\r\n\tat org.apache.spark.api.python.BasePythonRunner.compute(PythonRunner.scala:174)\r\n\tat org.apache.spark.api.python.PythonRDD.compute(PythonRDD.scala:67)\r\n\tat org.apache.spark.rdd.RDD.computeOrReadCheckpoint(RDD.scala:367)\r\n\tat org.apache.spark.rdd.RDD.iterator(RDD.scala:331)\r\n\tat org.apache.spark.rdd.MapPartitionsRDD.compute(MapPartitionsRDD.scala:52)\r\n\tat org.apache.spark.rdd.RDD.computeOrReadCheckpoint(RDD.scala:367)\r\n\tat org.apache.spark.rdd.RDD.iterator(RDD.scala:331)\r\n\tat org.apache.spark.rdd.MapPartitionsRDD.compute(MapPartitionsRDD.scala:52)\r\n\tat org.apache.spark.rdd.RDD.computeOrReadCheckpoint(RDD.scala:367)\r\n\tat org.apache.spark.rdd.RDD.iterator(RDD.scala:331)\r\n\tat org.apache.spark.rdd.MapPartitionsRDD.compute(MapPartitionsRDD.scala:52)\r\n\tat org.apache.spark.rdd.RDD.computeOrReadCheckpoint(RDD.scala:367)\r\n\tat org.apache.spark.rdd.RDD.iterator(RDD.scala:331)\r\n\tat org.apache.spark.rdd.MapPartitionsRDD.compute(MapPartitionsRDD.scala:52)\r\n\tat org.apache.spark.rdd.RDD.computeOrReadCheckpoint(RDD.scala:367)\r\n\tat org.apache.spark.rdd.RDD.iterator(RDD.scala:331)\r\n\tat org.apache.spark.rdd.MapPartitionsRDD.compute(MapPartitionsRDD.scala:52)\r\n\tat org.apache.spark.rdd.RDD.computeOrReadCheckpoint(RDD.scala:367)\r\n\tat org.apache.spark.rdd.RDD.iterator(RDD.scala:331)\r\n\tat org.apache.spark.scheduler.ResultTask.runTask(ResultTask.scala:93)\r\n\tat org.apache.spark.TaskContext.runTaskWithListeners(TaskContext.scala:166)\r\n\tat org.apache.spark.scheduler.Task.run(Task.scala:141)\r\n\tat org.apache.spark.executor.Executor$TaskRunner.$anonfun$run$4(Executor.scala:620)\r\n\tat org.apache.spark.util.SparkErrorUtils.tryWithSafeFinally(SparkErrorUtils.scala:64)\r\n\tat org.apache.spark.util.SparkErrorUtils.tryWithSafeFinally$(SparkErrorUtils.scala:61)\r\n\tat org.apache.spark.util.Utils$.tryWithSafeFinally(Utils.scala:94)\r\n\tat org.apache.spark.executor.Executor$TaskRunner.run(Executor.scala:623)\r\n\tat java.base/java.util.concurrent.ThreadPoolExecutor.runWorker(ThreadPoolExecutor.java:1144)\r\n\tat java.base/java.util.concurrent.ThreadPoolExecutor$Worker.run(ThreadPoolExecutor.java:642)\r\n\tat java.base/java.lang.Thread.run(Thread.java:1575)\r\nCaused by: java.net.SocketTimeoutException: Accept timed out\r\n\tat java.base/sun.nio.ch.NioSocketImpl.timedAccept(NioSocketImpl.java:701)\r\n\tat java.base/sun.nio.ch.NioSocketImpl.accept(NioSocketImpl.java:745)\r\n\tat java.base/java.net.ServerSocket.implAccept(ServerSocket.java:694)\r\n\tat java.base/java.net.ServerSocket.platformImplAccept(ServerSocket.java:659)\r\n\tat java.base/java.net.ServerSocket.implAccept(ServerSocket.java:635)\r\n\tat java.base/java.net.ServerSocket.implAccept(ServerSocket.java:581)\r\n\tat java.base/java.net.ServerSocket.accept(ServerSocket.java:540)\r\n\tat org.apache.spark.api.python.PythonWorkerFactory.createSimpleWorker(PythonWorkerFactory.scala:190)\r\n\t... 32 more\r\n\nDriver stacktrace:\r\n\tat org.apache.spark.scheduler.DAGScheduler.failJobAndIndependentStages(DAGScheduler.scala:2856)\r\n\tat org.apache.spark.scheduler.DAGScheduler.$anonfun$abortStage$2(DAGScheduler.scala:2792)\r\n\tat org.apache.spark.scheduler.DAGScheduler.$anonfun$abortStage$2$adapted(DAGScheduler.scala:2791)\r\n\tat scala.collection.mutable.ResizableArray.foreach(ResizableArray.scala:62)\r\n\tat scala.collection.mutable.ResizableArray.foreach$(ResizableArray.scala:55)\r\n\tat scala.collection.mutable.ArrayBuffer.foreach(ArrayBuffer.scala:49)\r\n\tat org.apache.spark.scheduler.DAGScheduler.abortStage(DAGScheduler.scala:2791)\r\n\tat org.apache.spark.scheduler.DAGScheduler.$anonfun$handleTaskSetFailed$1(DAGScheduler.scala:1247)\r\n\tat org.apache.spark.scheduler.DAGScheduler.$anonfun$handleTaskSetFailed$1$adapted(DAGScheduler.scala:1247)\r\n\tat scala.Option.foreach(Option.scala:407)\r\n\tat org.apache.spark.scheduler.DAGScheduler.handleTaskSetFailed(DAGScheduler.scala:1247)\r\n\tat org.apache.spark.scheduler.DAGSchedulerEventProcessLoop.doOnReceive(DAGScheduler.scala:3060)\r\n\tat org.apache.spark.scheduler.DAGSchedulerEventProcessLoop.onReceive(DAGScheduler.scala:2994)\r\n\tat org.apache.spark.scheduler.DAGSchedulerEventProcessLoop.onReceive(DAGScheduler.scala:2983)\r\n\tat org.apache.spark.util.EventLoop$$anon$1.run(EventLoop.scala:49)\r\n\tat org.apache.spark.scheduler.DAGScheduler.runJob(DAGScheduler.scala:989)\r\n\tat org.apache.spark.SparkContext.runJob(SparkContext.scala:2393)\r\n\tat org.apache.spark.SparkContext.runJob(SparkContext.scala:2414)\r\n\tat org.apache.spark.SparkContext.runJob(SparkContext.scala:2433)\r\n\tat org.apache.spark.sql.execution.SparkPlan.executeTake(SparkPlan.scala:530)\r\n\tat org.apache.spark.sql.execution.SparkPlan.executeTake(SparkPlan.scala:483)\r\n\tat org.apache.spark.sql.execution.CollectLimitExec.executeCollect(limit.scala:61)\r\n\tat org.apache.spark.sql.Dataset.collectFromPlan(Dataset.scala:4333)\r\n\tat org.apache.spark.sql.Dataset.$anonfun$head$1(Dataset.scala:3316)\r\n\tat org.apache.spark.sql.Dataset.$anonfun$withAction$2(Dataset.scala:4323)\r\n\tat org.apache.spark.sql.execution.QueryExecution$.withInternalError(QueryExecution.scala:546)\r\n\tat org.apache.spark.sql.Dataset.$anonfun$withAction$1(Dataset.scala:4321)\r\n\tat org.apache.spark.sql.execution.SQLExecution$.$anonfun$withNewExecutionId$6(SQLExecution.scala:125)\r\n\tat org.apache.spark.sql.execution.SQLExecution$.withSQLConfPropagated(SQLExecution.scala:201)\r\n\tat org.apache.spark.sql.execution.SQLExecution$.$anonfun$withNewExecutionId$1(SQLExecution.scala:108)\r\n\tat org.apache.spark.sql.SparkSession.withActive(SparkSession.scala:900)\r\n\tat org.apache.spark.sql.execution.SQLExecution$.withNewExecutionId(SQLExecution.scala:66)\r\n\tat org.apache.spark.sql.Dataset.withAction(Dataset.scala:4321)\r\n\tat org.apache.spark.sql.Dataset.head(Dataset.scala:3316)\r\n\tat org.apache.spark.sql.Dataset.take(Dataset.scala:3539)\r\n\tat org.apache.spark.sql.Dataset.getRows(Dataset.scala:280)\r\n\tat org.apache.spark.sql.Dataset.showString(Dataset.scala:315)\r\n\tat java.base/jdk.internal.reflect.DirectMethodHandleAccessor.invoke(DirectMethodHandleAccessor.java:103)\r\n\tat java.base/java.lang.reflect.Method.invoke(Method.java:580)\r\n\tat py4j.reflection.MethodInvoker.invoke(MethodInvoker.java:244)\r\n\tat py4j.reflection.ReflectionEngine.invoke(ReflectionEngine.java:374)\r\n\tat py4j.Gateway.invoke(Gateway.java:282)\r\n\tat py4j.commands.AbstractCommand.invokeMethod(AbstractCommand.java:132)\r\n\tat py4j.commands.CallCommand.execute(CallCommand.java:79)\r\n\tat py4j.ClientServerConnection.waitForCommands(ClientServerConnection.java:182)\r\n\tat py4j.ClientServerConnection.run(ClientServerConnection.java:106)\r\n\tat java.base/java.lang.Thread.run(Thread.java:1575)\r\nCaused by: org.apache.spark.SparkException: Python worker failed to connect back.\r\n\tat org.apache.spark.api.python.PythonWorkerFactory.createSimpleWorker(PythonWorkerFactory.scala:203)\r\n\tat org.apache.spark.api.python.PythonWorkerFactory.create(PythonWorkerFactory.scala:109)\r\n\tat org.apache.spark.SparkEnv.createPythonWorker(SparkEnv.scala:124)\r\n\tat org.apache.spark.api.python.BasePythonRunner.compute(PythonRunner.scala:174)\r\n\tat org.apache.spark.api.python.PythonRDD.compute(PythonRDD.scala:67)\r\n\tat org.apache.spark.rdd.RDD.computeOrReadCheckpoint(RDD.scala:367)\r\n\tat org.apache.spark.rdd.RDD.iterator(RDD.scala:331)\r\n\tat org.apache.spark.rdd.MapPartitionsRDD.compute(MapPartitionsRDD.scala:52)\r\n\tat org.apache.spark.rdd.RDD.computeOrReadCheckpoint(RDD.scala:367)\r\n\tat org.apache.spark.rdd.RDD.iterator(RDD.scala:331)\r\n\tat org.apache.spark.rdd.MapPartitionsRDD.compute(MapPartitionsRDD.scala:52)\r\n\tat org.apache.spark.rdd.RDD.computeOrReadCheckpoint(RDD.scala:367)\r\n\tat org.apache.spark.rdd.RDD.iterator(RDD.scala:331)\r\n\tat org.apache.spark.rdd.MapPartitionsRDD.compute(MapPartitionsRDD.scala:52)\r\n\tat org.apache.spark.rdd.RDD.computeOrReadCheckpoint(RDD.scala:367)\r\n\tat org.apache.spark.rdd.RDD.iterator(RDD.scala:331)\r\n\tat org.apache.spark.rdd.MapPartitionsRDD.compute(MapPartitionsRDD.scala:52)\r\n\tat org.apache.spark.rdd.RDD.computeOrReadCheckpoint(RDD.scala:367)\r\n\tat org.apache.spark.rdd.RDD.iterator(RDD.scala:331)\r\n\tat org.apache.spark.rdd.MapPartitionsRDD.compute(MapPartitionsRDD.scala:52)\r\n\tat org.apache.spark.rdd.RDD.computeOrReadCheckpoint(RDD.scala:367)\r\n\tat org.apache.spark.rdd.RDD.iterator(RDD.scala:331)\r\n\tat org.apache.spark.scheduler.ResultTask.runTask(ResultTask.scala:93)\r\n\tat org.apache.spark.TaskContext.runTaskWithListeners(TaskContext.scala:166)\r\n\tat org.apache.spark.scheduler.Task.run(Task.scala:141)\r\n\tat org.apache.spark.executor.Executor$TaskRunner.$anonfun$run$4(Executor.scala:620)\r\n\tat org.apache.spark.util.SparkErrorUtils.tryWithSafeFinally(SparkErrorUtils.scala:64)\r\n\tat org.apache.spark.util.SparkErrorUtils.tryWithSafeFinally$(SparkErrorUtils.scala:61)\r\n\tat org.apache.spark.util.Utils$.tryWithSafeFinally(Utils.scala:94)\r\n\tat org.apache.spark.executor.Executor$TaskRunner.run(Executor.scala:623)\r\n\tat java.base/java.util.concurrent.ThreadPoolExecutor.runWorker(ThreadPoolExecutor.java:1144)\r\n\tat java.base/java.util.concurrent.ThreadPoolExecutor$Worker.run(ThreadPoolExecutor.java:642)\r\n\t... 1 more\r\nCaused by: java.net.SocketTimeoutException: Accept timed out\r\n\tat java.base/sun.nio.ch.NioSocketImpl.timedAccept(NioSocketImpl.java:701)\r\n\tat java.base/sun.nio.ch.NioSocketImpl.accept(NioSocketImpl.java:745)\r\n\tat java.base/java.net.ServerSocket.implAccept(ServerSocket.java:694)\r\n\tat java.base/java.net.ServerSocket.platformImplAccept(ServerSocket.java:659)\r\n\tat java.base/java.net.ServerSocket.implAccept(ServerSocket.java:635)\r\n\tat java.base/java.net.ServerSocket.implAccept(ServerSocket.java:581)\r\n\tat java.base/java.net.ServerSocket.accept(ServerSocket.java:540)\r\n\tat org.apache.spark.api.python.PythonWorkerFactory.createSimpleWorker(PythonWorkerFactory.scala:190)\r\n\t... 32 more\r\n",
     "output_type": "error",
     "traceback": [
      "\u001B[1;31m---------------------------------------------------------------------------\u001B[0m",
      "\u001B[1;31mPy4JJavaError\u001B[0m                             Traceback (most recent call last)",
      "Cell \u001B[1;32mIn[68], line 9\u001B[0m\n\u001B[0;32m      6\u001B[0m df_tips \u001B[38;5;241m=\u001B[39m sns\u001B[38;5;241m.\u001B[39mload_dataset(\u001B[38;5;124m'\u001B[39m\u001B[38;5;124mtips\u001B[39m\u001B[38;5;124m'\u001B[39m)\n\u001B[0;32m      7\u001B[0m df \u001B[38;5;241m=\u001B[39m spark\u001B[38;5;241m.\u001B[39mcreateDataFrame(df_tips)\n\u001B[1;32m----> 9\u001B[0m \u001B[43mdf\u001B[49m\u001B[38;5;241;43m.\u001B[39;49m\u001B[43mshow\u001B[49m\u001B[43m(\u001B[49m\u001B[43m)\u001B[49m\n",
      "File \u001B[1;32m~\\anaconda3\\envs\\tensorflow-env\\lib\\site-packages\\pyspark\\sql\\dataframe.py:947\u001B[0m, in \u001B[0;36mDataFrame.show\u001B[1;34m(self, n, truncate, vertical)\u001B[0m\n\u001B[0;32m    887\u001B[0m \u001B[38;5;28;01mdef\u001B[39;00m \u001B[38;5;21mshow\u001B[39m(\u001B[38;5;28mself\u001B[39m, n: \u001B[38;5;28mint\u001B[39m \u001B[38;5;241m=\u001B[39m \u001B[38;5;241m20\u001B[39m, truncate: Union[\u001B[38;5;28mbool\u001B[39m, \u001B[38;5;28mint\u001B[39m] \u001B[38;5;241m=\u001B[39m \u001B[38;5;28;01mTrue\u001B[39;00m, vertical: \u001B[38;5;28mbool\u001B[39m \u001B[38;5;241m=\u001B[39m \u001B[38;5;28;01mFalse\u001B[39;00m) \u001B[38;5;241m-\u001B[39m\u001B[38;5;241m>\u001B[39m \u001B[38;5;28;01mNone\u001B[39;00m:\n\u001B[0;32m    888\u001B[0m \u001B[38;5;250m    \u001B[39m\u001B[38;5;124;03m\"\"\"Prints the first ``n`` rows to the console.\u001B[39;00m\n\u001B[0;32m    889\u001B[0m \n\u001B[0;32m    890\u001B[0m \u001B[38;5;124;03m    .. versionadded:: 1.3.0\u001B[39;00m\n\u001B[1;32m   (...)\u001B[0m\n\u001B[0;32m    945\u001B[0m \u001B[38;5;124;03m    name | Bob\u001B[39;00m\n\u001B[0;32m    946\u001B[0m \u001B[38;5;124;03m    \"\"\"\u001B[39;00m\n\u001B[1;32m--> 947\u001B[0m     \u001B[38;5;28mprint\u001B[39m(\u001B[38;5;28;43mself\u001B[39;49m\u001B[38;5;241;43m.\u001B[39;49m\u001B[43m_show_string\u001B[49m\u001B[43m(\u001B[49m\u001B[43mn\u001B[49m\u001B[43m,\u001B[49m\u001B[43m \u001B[49m\u001B[43mtruncate\u001B[49m\u001B[43m,\u001B[49m\u001B[43m \u001B[49m\u001B[43mvertical\u001B[49m\u001B[43m)\u001B[49m)\n",
      "File \u001B[1;32m~\\anaconda3\\envs\\tensorflow-env\\lib\\site-packages\\pyspark\\sql\\dataframe.py:965\u001B[0m, in \u001B[0;36mDataFrame._show_string\u001B[1;34m(self, n, truncate, vertical)\u001B[0m\n\u001B[0;32m    959\u001B[0m     \u001B[38;5;28;01mraise\u001B[39;00m PySparkTypeError(\n\u001B[0;32m    960\u001B[0m         error_class\u001B[38;5;241m=\u001B[39m\u001B[38;5;124m\"\u001B[39m\u001B[38;5;124mNOT_BOOL\u001B[39m\u001B[38;5;124m\"\u001B[39m,\n\u001B[0;32m    961\u001B[0m         message_parameters\u001B[38;5;241m=\u001B[39m{\u001B[38;5;124m\"\u001B[39m\u001B[38;5;124marg_name\u001B[39m\u001B[38;5;124m\"\u001B[39m: \u001B[38;5;124m\"\u001B[39m\u001B[38;5;124mvertical\u001B[39m\u001B[38;5;124m\"\u001B[39m, \u001B[38;5;124m\"\u001B[39m\u001B[38;5;124marg_type\u001B[39m\u001B[38;5;124m\"\u001B[39m: \u001B[38;5;28mtype\u001B[39m(vertical)\u001B[38;5;241m.\u001B[39m\u001B[38;5;18m__name__\u001B[39m},\n\u001B[0;32m    962\u001B[0m     )\n\u001B[0;32m    964\u001B[0m \u001B[38;5;28;01mif\u001B[39;00m \u001B[38;5;28misinstance\u001B[39m(truncate, \u001B[38;5;28mbool\u001B[39m) \u001B[38;5;129;01mand\u001B[39;00m truncate:\n\u001B[1;32m--> 965\u001B[0m     \u001B[38;5;28;01mreturn\u001B[39;00m \u001B[38;5;28;43mself\u001B[39;49m\u001B[38;5;241;43m.\u001B[39;49m\u001B[43m_jdf\u001B[49m\u001B[38;5;241;43m.\u001B[39;49m\u001B[43mshowString\u001B[49m\u001B[43m(\u001B[49m\u001B[43mn\u001B[49m\u001B[43m,\u001B[49m\u001B[43m \u001B[49m\u001B[38;5;241;43m20\u001B[39;49m\u001B[43m,\u001B[49m\u001B[43m \u001B[49m\u001B[43mvertical\u001B[49m\u001B[43m)\u001B[49m\n\u001B[0;32m    966\u001B[0m \u001B[38;5;28;01melse\u001B[39;00m:\n\u001B[0;32m    967\u001B[0m     \u001B[38;5;28;01mtry\u001B[39;00m:\n",
      "File \u001B[1;32m~\\anaconda3\\envs\\tensorflow-env\\lib\\site-packages\\py4j\\java_gateway.py:1322\u001B[0m, in \u001B[0;36mJavaMember.__call__\u001B[1;34m(self, *args)\u001B[0m\n\u001B[0;32m   1316\u001B[0m command \u001B[38;5;241m=\u001B[39m proto\u001B[38;5;241m.\u001B[39mCALL_COMMAND_NAME \u001B[38;5;241m+\u001B[39m\\\n\u001B[0;32m   1317\u001B[0m     \u001B[38;5;28mself\u001B[39m\u001B[38;5;241m.\u001B[39mcommand_header \u001B[38;5;241m+\u001B[39m\\\n\u001B[0;32m   1318\u001B[0m     args_command \u001B[38;5;241m+\u001B[39m\\\n\u001B[0;32m   1319\u001B[0m     proto\u001B[38;5;241m.\u001B[39mEND_COMMAND_PART\n\u001B[0;32m   1321\u001B[0m answer \u001B[38;5;241m=\u001B[39m \u001B[38;5;28mself\u001B[39m\u001B[38;5;241m.\u001B[39mgateway_client\u001B[38;5;241m.\u001B[39msend_command(command)\n\u001B[1;32m-> 1322\u001B[0m return_value \u001B[38;5;241m=\u001B[39m \u001B[43mget_return_value\u001B[49m\u001B[43m(\u001B[49m\n\u001B[0;32m   1323\u001B[0m \u001B[43m    \u001B[49m\u001B[43manswer\u001B[49m\u001B[43m,\u001B[49m\u001B[43m \u001B[49m\u001B[38;5;28;43mself\u001B[39;49m\u001B[38;5;241;43m.\u001B[39;49m\u001B[43mgateway_client\u001B[49m\u001B[43m,\u001B[49m\u001B[43m \u001B[49m\u001B[38;5;28;43mself\u001B[39;49m\u001B[38;5;241;43m.\u001B[39;49m\u001B[43mtarget_id\u001B[49m\u001B[43m,\u001B[49m\u001B[43m \u001B[49m\u001B[38;5;28;43mself\u001B[39;49m\u001B[38;5;241;43m.\u001B[39;49m\u001B[43mname\u001B[49m\u001B[43m)\u001B[49m\n\u001B[0;32m   1325\u001B[0m \u001B[38;5;28;01mfor\u001B[39;00m temp_arg \u001B[38;5;129;01min\u001B[39;00m temp_args:\n\u001B[0;32m   1326\u001B[0m     \u001B[38;5;28;01mif\u001B[39;00m \u001B[38;5;28mhasattr\u001B[39m(temp_arg, \u001B[38;5;124m\"\u001B[39m\u001B[38;5;124m_detach\u001B[39m\u001B[38;5;124m\"\u001B[39m):\n",
      "File \u001B[1;32m~\\anaconda3\\envs\\tensorflow-env\\lib\\site-packages\\pyspark\\errors\\exceptions\\captured.py:179\u001B[0m, in \u001B[0;36mcapture_sql_exception.<locals>.deco\u001B[1;34m(*a, **kw)\u001B[0m\n\u001B[0;32m    177\u001B[0m \u001B[38;5;28;01mdef\u001B[39;00m \u001B[38;5;21mdeco\u001B[39m(\u001B[38;5;241m*\u001B[39ma: Any, \u001B[38;5;241m*\u001B[39m\u001B[38;5;241m*\u001B[39mkw: Any) \u001B[38;5;241m-\u001B[39m\u001B[38;5;241m>\u001B[39m Any:\n\u001B[0;32m    178\u001B[0m     \u001B[38;5;28;01mtry\u001B[39;00m:\n\u001B[1;32m--> 179\u001B[0m         \u001B[38;5;28;01mreturn\u001B[39;00m f(\u001B[38;5;241m*\u001B[39ma, \u001B[38;5;241m*\u001B[39m\u001B[38;5;241m*\u001B[39mkw)\n\u001B[0;32m    180\u001B[0m     \u001B[38;5;28;01mexcept\u001B[39;00m Py4JJavaError \u001B[38;5;28;01mas\u001B[39;00m e:\n\u001B[0;32m    181\u001B[0m         converted \u001B[38;5;241m=\u001B[39m convert_exception(e\u001B[38;5;241m.\u001B[39mjava_exception)\n",
      "File \u001B[1;32m~\\anaconda3\\envs\\tensorflow-env\\lib\\site-packages\\py4j\\protocol.py:326\u001B[0m, in \u001B[0;36mget_return_value\u001B[1;34m(answer, gateway_client, target_id, name)\u001B[0m\n\u001B[0;32m    324\u001B[0m value \u001B[38;5;241m=\u001B[39m OUTPUT_CONVERTER[\u001B[38;5;28mtype\u001B[39m](answer[\u001B[38;5;241m2\u001B[39m:], gateway_client)\n\u001B[0;32m    325\u001B[0m \u001B[38;5;28;01mif\u001B[39;00m answer[\u001B[38;5;241m1\u001B[39m] \u001B[38;5;241m==\u001B[39m REFERENCE_TYPE:\n\u001B[1;32m--> 326\u001B[0m     \u001B[38;5;28;01mraise\u001B[39;00m Py4JJavaError(\n\u001B[0;32m    327\u001B[0m         \u001B[38;5;124m\"\u001B[39m\u001B[38;5;124mAn error occurred while calling \u001B[39m\u001B[38;5;132;01m{0}\u001B[39;00m\u001B[38;5;132;01m{1}\u001B[39;00m\u001B[38;5;132;01m{2}\u001B[39;00m\u001B[38;5;124m.\u001B[39m\u001B[38;5;130;01m\\n\u001B[39;00m\u001B[38;5;124m\"\u001B[39m\u001B[38;5;241m.\u001B[39m\n\u001B[0;32m    328\u001B[0m         \u001B[38;5;28mformat\u001B[39m(target_id, \u001B[38;5;124m\"\u001B[39m\u001B[38;5;124m.\u001B[39m\u001B[38;5;124m\"\u001B[39m, name), value)\n\u001B[0;32m    329\u001B[0m \u001B[38;5;28;01melse\u001B[39;00m:\n\u001B[0;32m    330\u001B[0m     \u001B[38;5;28;01mraise\u001B[39;00m Py4JError(\n\u001B[0;32m    331\u001B[0m         \u001B[38;5;124m\"\u001B[39m\u001B[38;5;124mAn error occurred while calling \u001B[39m\u001B[38;5;132;01m{0}\u001B[39;00m\u001B[38;5;132;01m{1}\u001B[39;00m\u001B[38;5;132;01m{2}\u001B[39;00m\u001B[38;5;124m. Trace:\u001B[39m\u001B[38;5;130;01m\\n\u001B[39;00m\u001B[38;5;132;01m{3}\u001B[39;00m\u001B[38;5;130;01m\\n\u001B[39;00m\u001B[38;5;124m\"\u001B[39m\u001B[38;5;241m.\u001B[39m\n\u001B[0;32m    332\u001B[0m         \u001B[38;5;28mformat\u001B[39m(target_id, \u001B[38;5;124m\"\u001B[39m\u001B[38;5;124m.\u001B[39m\u001B[38;5;124m\"\u001B[39m, name, value))\n",
      "\u001B[1;31mPy4JJavaError\u001B[0m: An error occurred while calling o1208.showString.\n: org.apache.spark.SparkException: Job aborted due to stage failure: Task 0 in stage 38.0 failed 1 times, most recent failure: Lost task 0.0 in stage 38.0 (TID 35) (Samson executor driver): org.apache.spark.SparkException: Python worker failed to connect back.\r\n\tat org.apache.spark.api.python.PythonWorkerFactory.createSimpleWorker(PythonWorkerFactory.scala:203)\r\n\tat org.apache.spark.api.python.PythonWorkerFactory.create(PythonWorkerFactory.scala:109)\r\n\tat org.apache.spark.SparkEnv.createPythonWorker(SparkEnv.scala:124)\r\n\tat org.apache.spark.api.python.BasePythonRunner.compute(PythonRunner.scala:174)\r\n\tat org.apache.spark.api.python.PythonRDD.compute(PythonRDD.scala:67)\r\n\tat org.apache.spark.rdd.RDD.computeOrReadCheckpoint(RDD.scala:367)\r\n\tat org.apache.spark.rdd.RDD.iterator(RDD.scala:331)\r\n\tat org.apache.spark.rdd.MapPartitionsRDD.compute(MapPartitionsRDD.scala:52)\r\n\tat org.apache.spark.rdd.RDD.computeOrReadCheckpoint(RDD.scala:367)\r\n\tat org.apache.spark.rdd.RDD.iterator(RDD.scala:331)\r\n\tat org.apache.spark.rdd.MapPartitionsRDD.compute(MapPartitionsRDD.scala:52)\r\n\tat org.apache.spark.rdd.RDD.computeOrReadCheckpoint(RDD.scala:367)\r\n\tat org.apache.spark.rdd.RDD.iterator(RDD.scala:331)\r\n\tat org.apache.spark.rdd.MapPartitionsRDD.compute(MapPartitionsRDD.scala:52)\r\n\tat org.apache.spark.rdd.RDD.computeOrReadCheckpoint(RDD.scala:367)\r\n\tat org.apache.spark.rdd.RDD.iterator(RDD.scala:331)\r\n\tat org.apache.spark.rdd.MapPartitionsRDD.compute(MapPartitionsRDD.scala:52)\r\n\tat org.apache.spark.rdd.RDD.computeOrReadCheckpoint(RDD.scala:367)\r\n\tat org.apache.spark.rdd.RDD.iterator(RDD.scala:331)\r\n\tat org.apache.spark.rdd.MapPartitionsRDD.compute(MapPartitionsRDD.scala:52)\r\n\tat org.apache.spark.rdd.RDD.computeOrReadCheckpoint(RDD.scala:367)\r\n\tat org.apache.spark.rdd.RDD.iterator(RDD.scala:331)\r\n\tat org.apache.spark.scheduler.ResultTask.runTask(ResultTask.scala:93)\r\n\tat org.apache.spark.TaskContext.runTaskWithListeners(TaskContext.scala:166)\r\n\tat org.apache.spark.scheduler.Task.run(Task.scala:141)\r\n\tat org.apache.spark.executor.Executor$TaskRunner.$anonfun$run$4(Executor.scala:620)\r\n\tat org.apache.spark.util.SparkErrorUtils.tryWithSafeFinally(SparkErrorUtils.scala:64)\r\n\tat org.apache.spark.util.SparkErrorUtils.tryWithSafeFinally$(SparkErrorUtils.scala:61)\r\n\tat org.apache.spark.util.Utils$.tryWithSafeFinally(Utils.scala:94)\r\n\tat org.apache.spark.executor.Executor$TaskRunner.run(Executor.scala:623)\r\n\tat java.base/java.util.concurrent.ThreadPoolExecutor.runWorker(ThreadPoolExecutor.java:1144)\r\n\tat java.base/java.util.concurrent.ThreadPoolExecutor$Worker.run(ThreadPoolExecutor.java:642)\r\n\tat java.base/java.lang.Thread.run(Thread.java:1575)\r\nCaused by: java.net.SocketTimeoutException: Accept timed out\r\n\tat java.base/sun.nio.ch.NioSocketImpl.timedAccept(NioSocketImpl.java:701)\r\n\tat java.base/sun.nio.ch.NioSocketImpl.accept(NioSocketImpl.java:745)\r\n\tat java.base/java.net.ServerSocket.implAccept(ServerSocket.java:694)\r\n\tat java.base/java.net.ServerSocket.platformImplAccept(ServerSocket.java:659)\r\n\tat java.base/java.net.ServerSocket.implAccept(ServerSocket.java:635)\r\n\tat java.base/java.net.ServerSocket.implAccept(ServerSocket.java:581)\r\n\tat java.base/java.net.ServerSocket.accept(ServerSocket.java:540)\r\n\tat org.apache.spark.api.python.PythonWorkerFactory.createSimpleWorker(PythonWorkerFactory.scala:190)\r\n\t... 32 more\r\n\nDriver stacktrace:\r\n\tat org.apache.spark.scheduler.DAGScheduler.failJobAndIndependentStages(DAGScheduler.scala:2856)\r\n\tat org.apache.spark.scheduler.DAGScheduler.$anonfun$abortStage$2(DAGScheduler.scala:2792)\r\n\tat org.apache.spark.scheduler.DAGScheduler.$anonfun$abortStage$2$adapted(DAGScheduler.scala:2791)\r\n\tat scala.collection.mutable.ResizableArray.foreach(ResizableArray.scala:62)\r\n\tat scala.collection.mutable.ResizableArray.foreach$(ResizableArray.scala:55)\r\n\tat scala.collection.mutable.ArrayBuffer.foreach(ArrayBuffer.scala:49)\r\n\tat org.apache.spark.scheduler.DAGScheduler.abortStage(DAGScheduler.scala:2791)\r\n\tat org.apache.spark.scheduler.DAGScheduler.$anonfun$handleTaskSetFailed$1(DAGScheduler.scala:1247)\r\n\tat org.apache.spark.scheduler.DAGScheduler.$anonfun$handleTaskSetFailed$1$adapted(DAGScheduler.scala:1247)\r\n\tat scala.Option.foreach(Option.scala:407)\r\n\tat org.apache.spark.scheduler.DAGScheduler.handleTaskSetFailed(DAGScheduler.scala:1247)\r\n\tat org.apache.spark.scheduler.DAGSchedulerEventProcessLoop.doOnReceive(DAGScheduler.scala:3060)\r\n\tat org.apache.spark.scheduler.DAGSchedulerEventProcessLoop.onReceive(DAGScheduler.scala:2994)\r\n\tat org.apache.spark.scheduler.DAGSchedulerEventProcessLoop.onReceive(DAGScheduler.scala:2983)\r\n\tat org.apache.spark.util.EventLoop$$anon$1.run(EventLoop.scala:49)\r\n\tat org.apache.spark.scheduler.DAGScheduler.runJob(DAGScheduler.scala:989)\r\n\tat org.apache.spark.SparkContext.runJob(SparkContext.scala:2393)\r\n\tat org.apache.spark.SparkContext.runJob(SparkContext.scala:2414)\r\n\tat org.apache.spark.SparkContext.runJob(SparkContext.scala:2433)\r\n\tat org.apache.spark.sql.execution.SparkPlan.executeTake(SparkPlan.scala:530)\r\n\tat org.apache.spark.sql.execution.SparkPlan.executeTake(SparkPlan.scala:483)\r\n\tat org.apache.spark.sql.execution.CollectLimitExec.executeCollect(limit.scala:61)\r\n\tat org.apache.spark.sql.Dataset.collectFromPlan(Dataset.scala:4333)\r\n\tat org.apache.spark.sql.Dataset.$anonfun$head$1(Dataset.scala:3316)\r\n\tat org.apache.spark.sql.Dataset.$anonfun$withAction$2(Dataset.scala:4323)\r\n\tat org.apache.spark.sql.execution.QueryExecution$.withInternalError(QueryExecution.scala:546)\r\n\tat org.apache.spark.sql.Dataset.$anonfun$withAction$1(Dataset.scala:4321)\r\n\tat org.apache.spark.sql.execution.SQLExecution$.$anonfun$withNewExecutionId$6(SQLExecution.scala:125)\r\n\tat org.apache.spark.sql.execution.SQLExecution$.withSQLConfPropagated(SQLExecution.scala:201)\r\n\tat org.apache.spark.sql.execution.SQLExecution$.$anonfun$withNewExecutionId$1(SQLExecution.scala:108)\r\n\tat org.apache.spark.sql.SparkSession.withActive(SparkSession.scala:900)\r\n\tat org.apache.spark.sql.execution.SQLExecution$.withNewExecutionId(SQLExecution.scala:66)\r\n\tat org.apache.spark.sql.Dataset.withAction(Dataset.scala:4321)\r\n\tat org.apache.spark.sql.Dataset.head(Dataset.scala:3316)\r\n\tat org.apache.spark.sql.Dataset.take(Dataset.scala:3539)\r\n\tat org.apache.spark.sql.Dataset.getRows(Dataset.scala:280)\r\n\tat org.apache.spark.sql.Dataset.showString(Dataset.scala:315)\r\n\tat java.base/jdk.internal.reflect.DirectMethodHandleAccessor.invoke(DirectMethodHandleAccessor.java:103)\r\n\tat java.base/java.lang.reflect.Method.invoke(Method.java:580)\r\n\tat py4j.reflection.MethodInvoker.invoke(MethodInvoker.java:244)\r\n\tat py4j.reflection.ReflectionEngine.invoke(ReflectionEngine.java:374)\r\n\tat py4j.Gateway.invoke(Gateway.java:282)\r\n\tat py4j.commands.AbstractCommand.invokeMethod(AbstractCommand.java:132)\r\n\tat py4j.commands.CallCommand.execute(CallCommand.java:79)\r\n\tat py4j.ClientServerConnection.waitForCommands(ClientServerConnection.java:182)\r\n\tat py4j.ClientServerConnection.run(ClientServerConnection.java:106)\r\n\tat java.base/java.lang.Thread.run(Thread.java:1575)\r\nCaused by: org.apache.spark.SparkException: Python worker failed to connect back.\r\n\tat org.apache.spark.api.python.PythonWorkerFactory.createSimpleWorker(PythonWorkerFactory.scala:203)\r\n\tat org.apache.spark.api.python.PythonWorkerFactory.create(PythonWorkerFactory.scala:109)\r\n\tat org.apache.spark.SparkEnv.createPythonWorker(SparkEnv.scala:124)\r\n\tat org.apache.spark.api.python.BasePythonRunner.compute(PythonRunner.scala:174)\r\n\tat org.apache.spark.api.python.PythonRDD.compute(PythonRDD.scala:67)\r\n\tat org.apache.spark.rdd.RDD.computeOrReadCheckpoint(RDD.scala:367)\r\n\tat org.apache.spark.rdd.RDD.iterator(RDD.scala:331)\r\n\tat org.apache.spark.rdd.MapPartitionsRDD.compute(MapPartitionsRDD.scala:52)\r\n\tat org.apache.spark.rdd.RDD.computeOrReadCheckpoint(RDD.scala:367)\r\n\tat org.apache.spark.rdd.RDD.iterator(RDD.scala:331)\r\n\tat org.apache.spark.rdd.MapPartitionsRDD.compute(MapPartitionsRDD.scala:52)\r\n\tat org.apache.spark.rdd.RDD.computeOrReadCheckpoint(RDD.scala:367)\r\n\tat org.apache.spark.rdd.RDD.iterator(RDD.scala:331)\r\n\tat org.apache.spark.rdd.MapPartitionsRDD.compute(MapPartitionsRDD.scala:52)\r\n\tat org.apache.spark.rdd.RDD.computeOrReadCheckpoint(RDD.scala:367)\r\n\tat org.apache.spark.rdd.RDD.iterator(RDD.scala:331)\r\n\tat org.apache.spark.rdd.MapPartitionsRDD.compute(MapPartitionsRDD.scala:52)\r\n\tat org.apache.spark.rdd.RDD.computeOrReadCheckpoint(RDD.scala:367)\r\n\tat org.apache.spark.rdd.RDD.iterator(RDD.scala:331)\r\n\tat org.apache.spark.rdd.MapPartitionsRDD.compute(MapPartitionsRDD.scala:52)\r\n\tat org.apache.spark.rdd.RDD.computeOrReadCheckpoint(RDD.scala:367)\r\n\tat org.apache.spark.rdd.RDD.iterator(RDD.scala:331)\r\n\tat org.apache.spark.scheduler.ResultTask.runTask(ResultTask.scala:93)\r\n\tat org.apache.spark.TaskContext.runTaskWithListeners(TaskContext.scala:166)\r\n\tat org.apache.spark.scheduler.Task.run(Task.scala:141)\r\n\tat org.apache.spark.executor.Executor$TaskRunner.$anonfun$run$4(Executor.scala:620)\r\n\tat org.apache.spark.util.SparkErrorUtils.tryWithSafeFinally(SparkErrorUtils.scala:64)\r\n\tat org.apache.spark.util.SparkErrorUtils.tryWithSafeFinally$(SparkErrorUtils.scala:61)\r\n\tat org.apache.spark.util.Utils$.tryWithSafeFinally(Utils.scala:94)\r\n\tat org.apache.spark.executor.Executor$TaskRunner.run(Executor.scala:623)\r\n\tat java.base/java.util.concurrent.ThreadPoolExecutor.runWorker(ThreadPoolExecutor.java:1144)\r\n\tat java.base/java.util.concurrent.ThreadPoolExecutor$Worker.run(ThreadPoolExecutor.java:642)\r\n\t... 1 more\r\nCaused by: java.net.SocketTimeoutException: Accept timed out\r\n\tat java.base/sun.nio.ch.NioSocketImpl.timedAccept(NioSocketImpl.java:701)\r\n\tat java.base/sun.nio.ch.NioSocketImpl.accept(NioSocketImpl.java:745)\r\n\tat java.base/java.net.ServerSocket.implAccept(ServerSocket.java:694)\r\n\tat java.base/java.net.ServerSocket.platformImplAccept(ServerSocket.java:659)\r\n\tat java.base/java.net.ServerSocket.implAccept(ServerSocket.java:635)\r\n\tat java.base/java.net.ServerSocket.implAccept(ServerSocket.java:581)\r\n\tat java.base/java.net.ServerSocket.accept(ServerSocket.java:540)\r\n\tat org.apache.spark.api.python.PythonWorkerFactory.createSimpleWorker(PythonWorkerFactory.scala:190)\r\n\t... 32 more\r\n"
     ]
    }
   ],
   "execution_count": 68
  },
  {
   "cell_type": "code",
   "source": "",
   "metadata": {
    "trusted": true
   },
   "outputs": [],
   "execution_count": null
  }
 ]
}
